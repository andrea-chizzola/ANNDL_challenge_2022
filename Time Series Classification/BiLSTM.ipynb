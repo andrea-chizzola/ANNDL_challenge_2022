{
  "nbformat": 4,
  "nbformat_minor": 0,
  "metadata": {
    "colab": {
      "provenance": []
    },
    "kernelspec": {
      "name": "python3",
      "display_name": "Python 3"
    },
    "language_info": {
      "name": "python"
    },
    "accelerator": "GPU",
    "gpuClass": "premium"
  },
  "cells": [
    {
      "cell_type": "code",
      "source": [
        "from google.colab import drive\n",
        "drive.mount('/content/drive')"
      ],
      "metadata": {
        "id": "RmQPxesySY8A",
        "colab": {
          "base_uri": "https://localhost:8080/"
        },
        "outputId": "30296850-54cf-45e2-e430-6d7dd9131d4b"
      },
      "execution_count": 1,
      "outputs": [
        {
          "output_type": "stream",
          "name": "stdout",
          "text": [
            "Mounted at /content/drive\n"
          ]
        }
      ]
    },
    {
      "cell_type": "code",
      "metadata": {
        "id": "C_cUOiS9flQ8",
        "colab": {
          "base_uri": "https://localhost:8080/"
        },
        "outputId": "2821948b-d9c0-456b-e7fe-cfad93b5ed7e"
      },
      "source": [
        "%cd '/content/drive/MyDrive/Colab Notebooks/ANNDL/Challenge2'"
      ],
      "execution_count": 2,
      "outputs": [
        {
          "output_type": "stream",
          "name": "stdout",
          "text": [
            "/content/drive/MyDrive/Colab Notebooks/ANNDL/Challenge2\n"
          ]
        }
      ]
    },
    {
      "cell_type": "markdown",
      "metadata": {
        "id": "zfehjCy896Fd"
      },
      "source": [
        "### Import libraries"
      ]
    },
    {
      "cell_type": "code",
      "metadata": {
        "id": "Z_wVYNVVfr6q",
        "colab": {
          "base_uri": "https://localhost:8080/"
        },
        "outputId": "40f85a82-ad4b-4d5f-f384-ed7af0f6ba38"
      },
      "source": [
        "import tensorflow as tf\n",
        "import numpy as np\n",
        "import os\n",
        "import random\n",
        "import pandas as pd\n",
        "import seaborn as sns\n",
        "import matplotlib.pyplot as plt\n",
        "plt.rc('font', size=16) \n",
        "from sklearn.metrics import accuracy_score, f1_score, precision_score, recall_score\n",
        "from sklearn.metrics import confusion_matrix\n",
        "from sklearn.model_selection import train_test_split\n",
        "from sklearn.preprocessing import MinMaxScaler\n",
        "import warnings\n",
        "import logging\n",
        "\n",
        "tfk = tf.keras\n",
        "tfkl = tf.keras.layers\n",
        "print(tf.__version__)"
      ],
      "execution_count": 3,
      "outputs": [
        {
          "output_type": "stream",
          "name": "stdout",
          "text": [
            "2.9.2\n"
          ]
        }
      ]
    },
    {
      "cell_type": "markdown",
      "metadata": {
        "id": "lQWEHP13tQsc"
      },
      "source": [
        "### Set seed for reproducibility"
      ]
    },
    {
      "cell_type": "code",
      "metadata": {
        "id": "imBtfhUPLwB-"
      },
      "source": [
        "# Random seed for reproducibility\n",
        "seed = 42\n",
        "\n",
        "random.seed(seed)\n",
        "os.environ['PYTHONHASHSEED'] = str(seed)\n",
        "np.random.seed(seed)\n",
        "tf.random.set_seed(seed)\n",
        "tf.compat.v1.set_random_seed(seed)"
      ],
      "execution_count": 4,
      "outputs": []
    },
    {
      "cell_type": "markdown",
      "metadata": {
        "id": "BDM82PpE3VSg"
      },
      "source": [
        "### Suppress warnings"
      ]
    },
    {
      "cell_type": "code",
      "execution_count": 5,
      "metadata": {
        "id": "5fXtacjAqOIq"
      },
      "outputs": [],
      "source": [
        "import warnings\n",
        "import logging\n",
        "\n",
        "os.environ['TF_CPP_MIN_LOG_LEVEL'] = '2'\n",
        "warnings.simplefilter(action='ignore', category=FutureWarning)\n",
        "warnings.simplefilter(action='ignore', category=Warning)\n",
        "tf.get_logger().setLevel('INFO')\n",
        "tf.autograph.set_verbosity(0)\n",
        "\n",
        "tf.get_logger().setLevel(logging.ERROR)\n",
        "tf.get_logger().setLevel('ERROR')\n",
        "tf.compat.v1.logging.set_verbosity(tf.compat.v1.logging.ERROR)"
      ]
    },
    {
      "cell_type": "markdown",
      "source": [
        "### Dataset Extraction"
      ],
      "metadata": {
        "id": "64HPeqah_nwM"
      }
    },
    {
      "cell_type": "code",
      "source": [
        "x_train = np.load('x_train.npy')\n",
        "y_train = np.load('y_train.npy')\n",
        "\n",
        "x_train.shape, y_train.shape"
      ],
      "metadata": {
        "colab": {
          "base_uri": "https://localhost:8080/"
        },
        "id": "iTAkA2StC59q",
        "outputId": "6e8cbab7-e424-45a7-b970-10ef3c95ad29"
      },
      "execution_count": 6,
      "outputs": [
        {
          "output_type": "execute_result",
          "data": {
            "text/plain": [
              "((2429, 36, 6), (2429,))"
            ]
          },
          "metadata": {},
          "execution_count": 6
        }
      ]
    },
    {
      "cell_type": "code",
      "source": [
        "df_class = pd.DataFrame(y_train, columns=['class'])\n",
        "df_class"
      ],
      "metadata": {
        "colab": {
          "base_uri": "https://localhost:8080/",
          "height": 424
        },
        "id": "Rx4rIck-MjAg",
        "outputId": "3a320e18-e7f8-49e1-d7a3-004e00b6b2bf"
      },
      "execution_count": 7,
      "outputs": [
        {
          "output_type": "execute_result",
          "data": {
            "text/plain": [
              "      class\n",
              "0         0\n",
              "1         0\n",
              "2         0\n",
              "3         0\n",
              "4         0\n",
              "...     ...\n",
              "2424     11\n",
              "2425     11\n",
              "2426     11\n",
              "2427     11\n",
              "2428     11\n",
              "\n",
              "[2429 rows x 1 columns]"
            ],
            "text/html": [
              "\n",
              "  <div id=\"df-b62a0530-4094-493b-ba8f-f38fe04a2d5e\">\n",
              "    <div class=\"colab-df-container\">\n",
              "      <div>\n",
              "<style scoped>\n",
              "    .dataframe tbody tr th:only-of-type {\n",
              "        vertical-align: middle;\n",
              "    }\n",
              "\n",
              "    .dataframe tbody tr th {\n",
              "        vertical-align: top;\n",
              "    }\n",
              "\n",
              "    .dataframe thead th {\n",
              "        text-align: right;\n",
              "    }\n",
              "</style>\n",
              "<table border=\"1\" class=\"dataframe\">\n",
              "  <thead>\n",
              "    <tr style=\"text-align: right;\">\n",
              "      <th></th>\n",
              "      <th>class</th>\n",
              "    </tr>\n",
              "  </thead>\n",
              "  <tbody>\n",
              "    <tr>\n",
              "      <th>0</th>\n",
              "      <td>0</td>\n",
              "    </tr>\n",
              "    <tr>\n",
              "      <th>1</th>\n",
              "      <td>0</td>\n",
              "    </tr>\n",
              "    <tr>\n",
              "      <th>2</th>\n",
              "      <td>0</td>\n",
              "    </tr>\n",
              "    <tr>\n",
              "      <th>3</th>\n",
              "      <td>0</td>\n",
              "    </tr>\n",
              "    <tr>\n",
              "      <th>4</th>\n",
              "      <td>0</td>\n",
              "    </tr>\n",
              "    <tr>\n",
              "      <th>...</th>\n",
              "      <td>...</td>\n",
              "    </tr>\n",
              "    <tr>\n",
              "      <th>2424</th>\n",
              "      <td>11</td>\n",
              "    </tr>\n",
              "    <tr>\n",
              "      <th>2425</th>\n",
              "      <td>11</td>\n",
              "    </tr>\n",
              "    <tr>\n",
              "      <th>2426</th>\n",
              "      <td>11</td>\n",
              "    </tr>\n",
              "    <tr>\n",
              "      <th>2427</th>\n",
              "      <td>11</td>\n",
              "    </tr>\n",
              "    <tr>\n",
              "      <th>2428</th>\n",
              "      <td>11</td>\n",
              "    </tr>\n",
              "  </tbody>\n",
              "</table>\n",
              "<p>2429 rows × 1 columns</p>\n",
              "</div>\n",
              "      <button class=\"colab-df-convert\" onclick=\"convertToInteractive('df-b62a0530-4094-493b-ba8f-f38fe04a2d5e')\"\n",
              "              title=\"Convert this dataframe to an interactive table.\"\n",
              "              style=\"display:none;\">\n",
              "        \n",
              "  <svg xmlns=\"http://www.w3.org/2000/svg\" height=\"24px\"viewBox=\"0 0 24 24\"\n",
              "       width=\"24px\">\n",
              "    <path d=\"M0 0h24v24H0V0z\" fill=\"none\"/>\n",
              "    <path d=\"M18.56 5.44l.94 2.06.94-2.06 2.06-.94-2.06-.94-.94-2.06-.94 2.06-2.06.94zm-11 1L8.5 8.5l.94-2.06 2.06-.94-2.06-.94L8.5 2.5l-.94 2.06-2.06.94zm10 10l.94 2.06.94-2.06 2.06-.94-2.06-.94-.94-2.06-.94 2.06-2.06.94z\"/><path d=\"M17.41 7.96l-1.37-1.37c-.4-.4-.92-.59-1.43-.59-.52 0-1.04.2-1.43.59L10.3 9.45l-7.72 7.72c-.78.78-.78 2.05 0 2.83L4 21.41c.39.39.9.59 1.41.59.51 0 1.02-.2 1.41-.59l7.78-7.78 2.81-2.81c.8-.78.8-2.07 0-2.86zM5.41 20L4 18.59l7.72-7.72 1.47 1.35L5.41 20z\"/>\n",
              "  </svg>\n",
              "      </button>\n",
              "      \n",
              "  <style>\n",
              "    .colab-df-container {\n",
              "      display:flex;\n",
              "      flex-wrap:wrap;\n",
              "      gap: 12px;\n",
              "    }\n",
              "\n",
              "    .colab-df-convert {\n",
              "      background-color: #E8F0FE;\n",
              "      border: none;\n",
              "      border-radius: 50%;\n",
              "      cursor: pointer;\n",
              "      display: none;\n",
              "      fill: #1967D2;\n",
              "      height: 32px;\n",
              "      padding: 0 0 0 0;\n",
              "      width: 32px;\n",
              "    }\n",
              "\n",
              "    .colab-df-convert:hover {\n",
              "      background-color: #E2EBFA;\n",
              "      box-shadow: 0px 1px 2px rgba(60, 64, 67, 0.3), 0px 1px 3px 1px rgba(60, 64, 67, 0.15);\n",
              "      fill: #174EA6;\n",
              "    }\n",
              "\n",
              "    [theme=dark] .colab-df-convert {\n",
              "      background-color: #3B4455;\n",
              "      fill: #D2E3FC;\n",
              "    }\n",
              "\n",
              "    [theme=dark] .colab-df-convert:hover {\n",
              "      background-color: #434B5C;\n",
              "      box-shadow: 0px 1px 3px 1px rgba(0, 0, 0, 0.15);\n",
              "      filter: drop-shadow(0px 1px 2px rgba(0, 0, 0, 0.3));\n",
              "      fill: #FFFFFF;\n",
              "    }\n",
              "  </style>\n",
              "\n",
              "      <script>\n",
              "        const buttonEl =\n",
              "          document.querySelector('#df-b62a0530-4094-493b-ba8f-f38fe04a2d5e button.colab-df-convert');\n",
              "        buttonEl.style.display =\n",
              "          google.colab.kernel.accessAllowed ? 'block' : 'none';\n",
              "\n",
              "        async function convertToInteractive(key) {\n",
              "          const element = document.querySelector('#df-b62a0530-4094-493b-ba8f-f38fe04a2d5e');\n",
              "          const dataTable =\n",
              "            await google.colab.kernel.invokeFunction('convertToInteractive',\n",
              "                                                     [key], {});\n",
              "          if (!dataTable) return;\n",
              "\n",
              "          const docLinkHtml = 'Like what you see? Visit the ' +\n",
              "            '<a target=\"_blank\" href=https://colab.research.google.com/notebooks/data_table.ipynb>data table notebook</a>'\n",
              "            + ' to learn more about interactive tables.';\n",
              "          element.innerHTML = '';\n",
              "          dataTable['output_type'] = 'display_data';\n",
              "          await google.colab.output.renderOutput(dataTable, element);\n",
              "          const docLink = document.createElement('div');\n",
              "          docLink.innerHTML = docLinkHtml;\n",
              "          element.appendChild(docLink);\n",
              "        }\n",
              "      </script>\n",
              "    </div>\n",
              "  </div>\n",
              "  "
            ]
          },
          "metadata": {},
          "execution_count": 7
        }
      ]
    },
    {
      "cell_type": "code",
      "source": [
        "counts = df_class.value_counts(sort=False)\n",
        "counts"
      ],
      "metadata": {
        "colab": {
          "base_uri": "https://localhost:8080/"
        },
        "id": "5PJViD-5RAx3",
        "outputId": "32efe68b-138a-41d5-8f55-da3e8049a7ce"
      },
      "execution_count": 8,
      "outputs": [
        {
          "output_type": "execute_result",
          "data": {
            "text/plain": [
              "class\n",
              "0         34\n",
              "1        123\n",
              "2        270\n",
              "3        381\n",
              "4         62\n",
              "5        153\n",
              "6        313\n",
              "7         68\n",
              "8        120\n",
              "9        777\n",
              "10        77\n",
              "11        51\n",
              "dtype: int64"
            ]
          },
          "metadata": {},
          "execution_count": 8
        }
      ]
    },
    {
      "cell_type": "code",
      "source": [
        "counts.plot(kind='bar', rot=0, use_index=False, xticks=counts.index.tolist())\n",
        "#plt.savefig('counts.png')"
      ],
      "metadata": {
        "colab": {
          "base_uri": "https://localhost:8080/",
          "height": 290
        },
        "id": "-LCgfOLsJEqI",
        "outputId": "ccf3b760-c80b-4420-fc1a-d49da087959e"
      },
      "execution_count": 9,
      "outputs": [
        {
          "output_type": "execute_result",
          "data": {
            "text/plain": [
              "<matplotlib.axes._subplots.AxesSubplot at 0x7f3ea039f040>"
            ]
          },
          "metadata": {},
          "execution_count": 9
        },
        {
          "output_type": "display_data",
          "data": {
            "text/plain": [
              "<Figure size 432x288 with 1 Axes>"
            ],
            "image/png": "[encoded data removed]"
          },
          "metadata": {
            "needs_background": "light"
          }
        }
      ]
    },
    {
      "cell_type": "markdown",
      "source": [
        "### Robust rescaling"
      ],
      "metadata": {
        "id": "uKiyoV5T9gGF"
      }
    },
    {
      "cell_type": "code",
      "source": [
        "from sklearn import preprocessing\n",
        "\n",
        "def robust(x_train, y_train, axis, stratify):\n",
        "\n",
        "    X_train, X_test, y_train, y_test = train_test_split(x_train, y_train, test_size=0.15, shuffle=True, random_state=seed, stratify=stratify)\n",
        "\n",
        "    reshaped_X_train = np.reshape( X_train, (X_train.shape[0]*X_train.shape[1],X_train.shape[2]) )\n",
        "    reshaped_X_test = np.reshape( X_test, (X_test.shape[0]*X_test.shape[1],X_test.shape[2]) )\n",
        "\n",
        "    robust_scaler = preprocessing.RobustScaler()\n",
        "\n",
        "    reshaped_X_train = robust_scaler.fit_transform(reshaped_X_train)\n",
        "    reshaped_X_test = robust_scaler.transform(reshaped_X_test)\n",
        "\n",
        "    X_train = np.reshape( reshaped_X_train, (X_train.shape[0], X_train.shape[1], X_train.shape[2]) )\n",
        "    X_test = np.reshape( reshaped_X_test, (X_test.shape[0], X_test.shape[1], X_test.shape[2]) )\n",
        "\n",
        "    Y_train = tfk.utils.to_categorical(y_train)\n",
        "    Y_test = tfk.utils.to_categorical(y_test)\n",
        "\n",
        "    return X_train, Y_train, X_test, Y_test\n",
        "\n",
        "X_train, Y_train, X_test, Y_test = robust(x_train, y_train, (0,1), df_class['class'])"
      ],
      "metadata": {
        "id": "ZJVwVoP3rson"
      },
      "execution_count": 10,
      "outputs": []
    },
    {
      "cell_type": "markdown",
      "source": [
        "### Hyperparameters"
      ],
      "metadata": {
        "id": "n1Y3XOOayP8H"
      }
    },
    {
      "cell_type": "code",
      "source": [
        "input_shape = X_train.shape[1:]\n",
        "num_classes = df_class['class'].nunique()\n",
        "batch_size = 32\n",
        "epochs = 200"
      ],
      "metadata": {
        "id": "22yqtAb2yY1F"
      },
      "execution_count": 11,
      "outputs": []
    },
    {
      "cell_type": "markdown",
      "source": [
        "### BiLSTM + conv net"
      ],
      "metadata": {
        "id": "HGC0-mevg8o0"
      }
    },
    {
      "cell_type": "code",
      "metadata": {
        "id": "1I9QwEDaV6xF"
      },
      "source": [
        "def build_BiLSTM_classifier(input_shape, classes):\n",
        "    \n",
        "    input_layer = tfkl.Input(shape=input_shape, name='Input')\n",
        "\n",
        "    bilstm = tfkl.Bidirectional(tfkl.LSTM(128, return_sequences=True))(input_layer)\n",
        "\n",
        "    conv = tfkl.Conv1D(128, 3, padding='same', activation='relu')(bilstm) \n",
        "    conv = tfkl.MaxPool1D()(conv)\n",
        "    conv = tfkl.Conv1D(64, 3, padding='same', activation='relu')(conv)\n",
        "    conv = tfkl.MaxPool1D()(conv)\n",
        "\n",
        "    bilstm = tfkl.Bidirectional(tfkl.LSTM(32, return_sequences=True))(conv)\n",
        "\n",
        "    pool = tfkl.GlobalAveragePooling1D()(bilstm)\n",
        "    dropout = tfkl.Dropout(.3, seed=seed)(pool)\n",
        "    classifier = tfkl.Dense(32, activation='relu')(dropout)\n",
        "    output_layer = tfkl.Dense(classes, activation='softmax')(classifier)\n",
        "\n",
        "    model = tfk.Model(inputs=input_layer, outputs=output_layer, name='model')\n",
        "\n",
        "    model.compile(loss=tfk.losses.CategoricalCrossentropy(), optimizer=tfk.optimizers.Adam(), metrics='accuracy')\n",
        "\n",
        "    return model"
      ],
      "execution_count": 12,
      "outputs": []
    },
    {
      "cell_type": "code",
      "metadata": {
        "id": "2HsaYcmTV6uX",
        "colab": {
          "base_uri": "https://localhost:8080/"
        },
        "outputId": "59647397-2655-440f-cb6e-5e35c3302a0d"
      },
      "source": [
        "model = build_BiLSTM_classifier(input_shape, num_classes)\n",
        "model.summary()"
      ],
      "execution_count": 13,
      "outputs": [
        {
          "output_type": "stream",
          "name": "stdout",
          "text": [
            "Model: \"model\"\n",
            "_________________________________________________________________\n",
            " Layer (type)                Output Shape              Param #   \n",
            "=================================================================\n",
            " Input (InputLayer)          [(None, 36, 6)]           0         \n",
            "                                                                 \n",
            " bidirectional (Bidirectiona  (None, 36, 256)          138240    \n",
            " l)                                                              \n",
            "                                                                 \n",
            " conv1d (Conv1D)             (None, 36, 128)           98432     \n",
            "                                                                 \n",
            " max_pooling1d (MaxPooling1D  (None, 18, 128)          0         \n",
            " )                                                               \n",
            "                                                                 \n",
            " conv1d_1 (Conv1D)           (None, 18, 64)            24640     \n",
            "                                                                 \n",
            " max_pooling1d_1 (MaxPooling  (None, 9, 64)            0         \n",
            " 1D)                                                             \n",
            "                                                                 \n",
            " bidirectional_1 (Bidirectio  (None, 9, 64)            24832     \n",
            " nal)                                                            \n",
            "                                                                 \n",
            " global_average_pooling1d (G  (None, 64)               0         \n",
            " lobalAveragePooling1D)                                          \n",
            "                                                                 \n",
            " dropout (Dropout)           (None, 64)                0         \n",
            "                                                                 \n",
            " dense (Dense)               (None, 32)                2080      \n",
            "                                                                 \n",
            " dense_1 (Dense)             (None, 12)                396       \n",
            "                                                                 \n",
            "=================================================================\n",
            "Total params: 288,620\n",
            "Trainable params: 288,620\n",
            "Non-trainable params: 0\n",
            "_________________________________________________________________\n"
          ]
        }
      ]
    },
    {
      "cell_type": "markdown",
      "source": [
        "### Fit"
      ],
      "metadata": {
        "id": "azZQviR6_Nt-"
      }
    },
    {
      "cell_type": "code",
      "metadata": {
        "id": "hoS_rLRJV6sZ",
        "colab": {
          "base_uri": "https://localhost:8080/"
        },
        "outputId": "27e90b55-8020-42c5-e2f9-3a4677717373"
      },
      "source": [
        "# Train the model\n",
        "history = model.fit(\n",
        "    x = X_train,\n",
        "    y = Y_train,\n",
        "    batch_size=batch_size,\n",
        "    epochs = epochs,\n",
        "    validation_data=(X_test, Y_test),\n",
        "    callbacks = [\n",
        "        tfk.callbacks.EarlyStopping(monitor='val_accuracy', mode='max', patience=20, restore_best_weights=True),\n",
        "        tfk.callbacks.ReduceLROnPlateau(monitor='val_accuracy', mode='max', patience=5, factor=0.5, min_lr=1e-5)\n",
        "    ]\n",
        ").history"
      ],
      "execution_count": 14,
      "outputs": [
        {
          "output_type": "stream",
          "name": "stdout",
          "text": [
            "Epoch 1/200\n",
            "65/65 [==============================] - 18s 35ms/step - loss: 1.8945 - accuracy: 0.3987 - val_loss: 1.5142 - val_accuracy: 0.5014 - lr: 0.0010\n",
            "Epoch 2/200\n",
            "65/65 [==============================] - 1s 13ms/step - loss: 1.4318 - accuracy: 0.5315 - val_loss: 1.3217 - val_accuracy: 0.5534 - lr: 0.0010\n",
            "Epoch 3/200\n",
            "65/65 [==============================] - 1s 13ms/step - loss: 1.2742 - accuracy: 0.5736 - val_loss: 1.2157 - val_accuracy: 0.6027 - lr: 0.0010\n",
            "Epoch 4/200\n",
            "65/65 [==============================] - 1s 13ms/step - loss: 1.1502 - accuracy: 0.6168 - val_loss: 1.1543 - val_accuracy: 0.6329 - lr: 0.0010\n",
            "Epoch 5/200\n",
            "65/65 [==============================] - 1s 13ms/step - loss: 1.0688 - accuracy: 0.6429 - val_loss: 1.1084 - val_accuracy: 0.6301 - lr: 0.0010\n",
            "Epoch 6/200\n",
            "65/65 [==============================] - 1s 13ms/step - loss: 0.9837 - accuracy: 0.6667 - val_loss: 1.0459 - val_accuracy: 0.6356 - lr: 0.0010\n",
            "Epoch 7/200\n",
            "65/65 [==============================] - 1s 13ms/step - loss: 0.9708 - accuracy: 0.6739 - val_loss: 1.0840 - val_accuracy: 0.6247 - lr: 0.0010\n",
            "Epoch 8/200\n",
            "65/65 [==============================] - 1s 14ms/step - loss: 0.9058 - accuracy: 0.6831 - val_loss: 1.0385 - val_accuracy: 0.6548 - lr: 0.0010\n",
            "Epoch 9/200\n",
            "65/65 [==============================] - 1s 14ms/step - loss: 0.8576 - accuracy: 0.6982 - val_loss: 1.1259 - val_accuracy: 0.6247 - lr: 0.0010\n",
            "Epoch 10/200\n",
            "65/65 [==============================] - 1s 13ms/step - loss: 0.8229 - accuracy: 0.7103 - val_loss: 1.0699 - val_accuracy: 0.6548 - lr: 0.0010\n",
            "Epoch 11/200\n",
            "65/65 [==============================] - 1s 13ms/step - loss: 0.7861 - accuracy: 0.7355 - val_loss: 1.1292 - val_accuracy: 0.6027 - lr: 0.0010\n",
            "Epoch 12/200\n",
            "65/65 [==============================] - 1s 13ms/step - loss: 0.8030 - accuracy: 0.7287 - val_loss: 1.0882 - val_accuracy: 0.6466 - lr: 0.0010\n",
            "Epoch 13/200\n",
            "65/65 [==============================] - 1s 13ms/step - loss: 0.7279 - accuracy: 0.7490 - val_loss: 1.0875 - val_accuracy: 0.6411 - lr: 0.0010\n",
            "Epoch 14/200\n",
            "65/65 [==============================] - 1s 13ms/step - loss: 0.6438 - accuracy: 0.7897 - val_loss: 1.0926 - val_accuracy: 0.6466 - lr: 5.0000e-04\n",
            "Epoch 15/200\n",
            "65/65 [==============================] - 1s 13ms/step - loss: 0.6015 - accuracy: 0.7922 - val_loss: 1.0674 - val_accuracy: 0.6740 - lr: 5.0000e-04\n",
            "Epoch 16/200\n",
            "65/65 [==============================] - 1s 13ms/step - loss: 0.5763 - accuracy: 0.8169 - val_loss: 1.0832 - val_accuracy: 0.6630 - lr: 5.0000e-04\n",
            "Epoch 17/200\n",
            "65/65 [==============================] - 1s 14ms/step - loss: 0.5560 - accuracy: 0.8149 - val_loss: 1.0929 - val_accuracy: 0.6849 - lr: 5.0000e-04\n",
            "Epoch 18/200\n",
            "65/65 [==============================] - 1s 13ms/step - loss: 0.5223 - accuracy: 0.8285 - val_loss: 1.0843 - val_accuracy: 0.6712 - lr: 5.0000e-04\n",
            "Epoch 19/200\n",
            "65/65 [==============================] - 1s 13ms/step - loss: 0.5234 - accuracy: 0.8256 - val_loss: 1.1862 - val_accuracy: 0.6877 - lr: 5.0000e-04\n",
            "Epoch 20/200\n",
            "65/65 [==============================] - 1s 13ms/step - loss: 0.4962 - accuracy: 0.8372 - val_loss: 1.1367 - val_accuracy: 0.6795 - lr: 5.0000e-04\n",
            "Epoch 21/200\n",
            "65/65 [==============================] - 1s 13ms/step - loss: 0.4624 - accuracy: 0.8551 - val_loss: 1.2102 - val_accuracy: 0.7014 - lr: 5.0000e-04\n",
            "Epoch 22/200\n",
            "65/65 [==============================] - 1s 13ms/step - loss: 0.4469 - accuracy: 0.8513 - val_loss: 1.2471 - val_accuracy: 0.6767 - lr: 5.0000e-04\n",
            "Epoch 23/200\n",
            "65/65 [==============================] - 1s 13ms/step - loss: 0.4650 - accuracy: 0.8435 - val_loss: 1.2809 - val_accuracy: 0.6548 - lr: 5.0000e-04\n",
            "Epoch 24/200\n",
            "65/65 [==============================] - 1s 13ms/step - loss: 0.4114 - accuracy: 0.8711 - val_loss: 1.2789 - val_accuracy: 0.6685 - lr: 5.0000e-04\n",
            "Epoch 25/200\n",
            "65/65 [==============================] - 1s 13ms/step - loss: 0.3809 - accuracy: 0.8726 - val_loss: 1.3145 - val_accuracy: 0.6767 - lr: 5.0000e-04\n",
            "Epoch 26/200\n",
            "65/65 [==============================] - 1s 13ms/step - loss: 0.3543 - accuracy: 0.8842 - val_loss: 1.3872 - val_accuracy: 0.6822 - lr: 5.0000e-04\n",
            "Epoch 27/200\n",
            "65/65 [==============================] - 1s 13ms/step - loss: 0.3130 - accuracy: 0.8978 - val_loss: 1.3035 - val_accuracy: 0.6767 - lr: 2.5000e-04\n",
            "Epoch 28/200\n",
            "65/65 [==============================] - 1s 13ms/step - loss: 0.2833 - accuracy: 0.9079 - val_loss: 1.3375 - val_accuracy: 0.7014 - lr: 2.5000e-04\n",
            "Epoch 29/200\n",
            "65/65 [==============================] - 1s 13ms/step - loss: 0.2649 - accuracy: 0.9152 - val_loss: 1.3777 - val_accuracy: 0.6932 - lr: 2.5000e-04\n",
            "Epoch 30/200\n",
            "65/65 [==============================] - 1s 13ms/step - loss: 0.2445 - accuracy: 0.9215 - val_loss: 1.4079 - val_accuracy: 0.6986 - lr: 2.5000e-04\n",
            "Epoch 31/200\n",
            "65/65 [==============================] - 1s 13ms/step - loss: 0.2375 - accuracy: 0.9234 - val_loss: 1.4511 - val_accuracy: 0.6575 - lr: 2.5000e-04\n",
            "Epoch 32/200\n",
            "65/65 [==============================] - 1s 13ms/step - loss: 0.2215 - accuracy: 0.9239 - val_loss: 1.4460 - val_accuracy: 0.7041 - lr: 1.2500e-04\n",
            "Epoch 33/200\n",
            "65/65 [==============================] - 1s 13ms/step - loss: 0.1998 - accuracy: 0.9385 - val_loss: 1.4611 - val_accuracy: 0.6795 - lr: 1.2500e-04\n",
            "Epoch 34/200\n",
            "65/65 [==============================] - 1s 13ms/step - loss: 0.1942 - accuracy: 0.9399 - val_loss: 1.4733 - val_accuracy: 0.6712 - lr: 1.2500e-04\n",
            "Epoch 35/200\n",
            "65/65 [==============================] - 1s 13ms/step - loss: 0.1843 - accuracy: 0.9409 - val_loss: 1.4884 - val_accuracy: 0.6959 - lr: 1.2500e-04\n",
            "Epoch 36/200\n",
            "65/65 [==============================] - 1s 13ms/step - loss: 0.1760 - accuracy: 0.9496 - val_loss: 1.5089 - val_accuracy: 0.6877 - lr: 1.2500e-04\n",
            "Epoch 37/200\n",
            "65/65 [==============================] - 1s 13ms/step - loss: 0.1761 - accuracy: 0.9486 - val_loss: 1.5314 - val_accuracy: 0.6712 - lr: 1.2500e-04\n",
            "Epoch 38/200\n",
            "65/65 [==============================] - 1s 13ms/step - loss: 0.1562 - accuracy: 0.9564 - val_loss: 1.5329 - val_accuracy: 0.6904 - lr: 6.2500e-05\n",
            "Epoch 39/200\n",
            "65/65 [==============================] - 1s 13ms/step - loss: 0.1535 - accuracy: 0.9559 - val_loss: 1.5302 - val_accuracy: 0.6986 - lr: 6.2500e-05\n",
            "Epoch 40/200\n",
            "65/65 [==============================] - 1s 13ms/step - loss: 0.1461 - accuracy: 0.9549 - val_loss: 1.5536 - val_accuracy: 0.7014 - lr: 6.2500e-05\n",
            "Epoch 41/200\n",
            "65/65 [==============================] - 1s 13ms/step - loss: 0.1490 - accuracy: 0.9564 - val_loss: 1.5530 - val_accuracy: 0.6932 - lr: 6.2500e-05\n",
            "Epoch 42/200\n",
            "65/65 [==============================] - 1s 13ms/step - loss: 0.1408 - accuracy: 0.9588 - val_loss: 1.5530 - val_accuracy: 0.6822 - lr: 6.2500e-05\n",
            "Epoch 43/200\n",
            "65/65 [==============================] - 1s 13ms/step - loss: 0.1387 - accuracy: 0.9612 - val_loss: 1.5697 - val_accuracy: 0.6904 - lr: 3.1250e-05\n",
            "Epoch 44/200\n",
            "65/65 [==============================] - 1s 13ms/step - loss: 0.1356 - accuracy: 0.9617 - val_loss: 1.5704 - val_accuracy: 0.6959 - lr: 3.1250e-05\n",
            "Epoch 45/200\n",
            "65/65 [==============================] - 1s 13ms/step - loss: 0.1312 - accuracy: 0.9627 - val_loss: 1.5710 - val_accuracy: 0.6932 - lr: 3.1250e-05\n",
            "Epoch 46/200\n",
            "65/65 [==============================] - 1s 13ms/step - loss: 0.1313 - accuracy: 0.9656 - val_loss: 1.5766 - val_accuracy: 0.6959 - lr: 3.1250e-05\n",
            "Epoch 47/200\n",
            "65/65 [==============================] - 1s 13ms/step - loss: 0.1314 - accuracy: 0.9656 - val_loss: 1.5908 - val_accuracy: 0.6877 - lr: 3.1250e-05\n",
            "Epoch 48/200\n",
            "65/65 [==============================] - 1s 13ms/step - loss: 0.1246 - accuracy: 0.9685 - val_loss: 1.5947 - val_accuracy: 0.6932 - lr: 1.5625e-05\n",
            "Epoch 49/200\n",
            "65/65 [==============================] - 1s 13ms/step - loss: 0.1299 - accuracy: 0.9627 - val_loss: 1.5961 - val_accuracy: 0.6877 - lr: 1.5625e-05\n",
            "Epoch 50/200\n",
            "65/65 [==============================] - 1s 13ms/step - loss: 0.1260 - accuracy: 0.9666 - val_loss: 1.5993 - val_accuracy: 0.6877 - lr: 1.5625e-05\n",
            "Epoch 51/200\n",
            "65/65 [==============================] - 1s 13ms/step - loss: 0.1197 - accuracy: 0.9729 - val_loss: 1.6077 - val_accuracy: 0.6904 - lr: 1.5625e-05\n",
            "Epoch 52/200\n",
            "65/65 [==============================] - 1s 13ms/step - loss: 0.1293 - accuracy: 0.9627 - val_loss: 1.6132 - val_accuracy: 0.6877 - lr: 1.5625e-05\n"
          ]
        }
      ]
    },
    {
      "cell_type": "code",
      "source": [
        "model.save('Models/BiLSTM_final')"
      ],
      "metadata": {
        "colab": {
          "base_uri": "https://localhost:8080/"
        },
        "id": "EwYJQ6ZqJlBm",
        "outputId": "24208fea-a072-47d0-b9d9-21b8c1742b67"
      },
      "execution_count": null,
      "outputs": [
        {
          "output_type": "stream",
          "name": "stderr",
          "text": [
            "WARNING:absl:Function `_wrapped_model` contains input name(s) Input with unsupported characters which will be renamed to input in the SavedModel.\n",
            "WARNING:absl:Found untraced functions such as _jit_compiled_convolution_op, _jit_compiled_convolution_op, lstm_cell_1_layer_call_fn, lstm_cell_1_layer_call_and_return_conditional_losses, lstm_cell_2_layer_call_fn while saving (showing 5 of 10). These functions will not be directly callable after loading.\n"
          ]
        }
      ]
    },
    {
      "cell_type": "code",
      "source": [
        "best_epoch = np.argmax(history['val_accuracy'])\n",
        "plt.figure(figsize=(17,4))\n",
        "plt.plot(history['loss'], label='Training loss', alpha=.8, color='#ff7f0e')\n",
        "plt.plot(history['val_loss'], label='Validation loss', alpha=.9, color='#5a9aa5')\n",
        "plt.axvline(x=best_epoch, label='Best epoch', alpha=.3, ls='--', color='#5a9aa5')\n",
        "plt.title('Categorical Crossentropy')\n",
        "plt.legend()\n",
        "plt.grid(alpha=.3)\n",
        "plt.show()\n",
        "\n",
        "plt.figure(figsize=(17,4))\n",
        "plt.plot(history['accuracy'], label='Training accuracy', alpha=.8, color='#ff7f0e')\n",
        "plt.plot(history['val_accuracy'], label='Validation accuracy', alpha=.9, color='#5a9aa5')\n",
        "plt.axvline(x=best_epoch, label='Best epoch', alpha=.3, ls='--', color='#5a9aa5')\n",
        "plt.title('Accuracy')\n",
        "plt.legend()\n",
        "plt.grid(alpha=.3)\n",
        "plt.show()\n",
        "\n",
        "plt.figure(figsize=(18,3))\n",
        "plt.plot(history['lr'], label='Learning Rate', alpha=.8, color='#ff7f0e')\n",
        "plt.axvline(x=best_epoch, label='Best epoch', alpha=.3, ls='--', color='#5a9aa5')\n",
        "plt.legend()\n",
        "plt.grid(alpha=.3)\n",
        "plt.show()"
      ],
      "metadata": {
        "colab": {
          "base_uri": "https://localhost:8080/",
          "height": 764
        },
        "id": "ndbJsp_IW1NP",
        "outputId": "5dee0748-e0d2-4367-8743-34d5331300e3"
      },
      "execution_count": 15,
      "outputs": [
        {
          "output_type": "display_data",
          "data": {
            "text/plain": [
              "<Figure size 1224x288 with 1 Axes>"
            ],
            "image/png": "[encoded data removed]"
          },
          "metadata": {
            "needs_background": "light"
          }
        },
        {
          "output_type": "display_data",
          "data": {
            "text/plain": [
              "<Figure size 1224x288 with 1 Axes>"
            ],
            "image/png": "[encoded data removed]"
          },
          "metadata": {
            "needs_background": "light"
          }
        },
        {
          "output_type": "display_data",
          "data": {
            "text/plain": [
              "<Figure size 1296x216 with 1 Axes>"
            ],
            "image/png": "[encoded data removed]"
          },
          "metadata": {
            "needs_background": "light"
          }
        }
      ]
    }
  ]
}