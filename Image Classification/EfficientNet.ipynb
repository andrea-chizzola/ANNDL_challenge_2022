{
  "cells": [
    {
      "cell_type": "markdown",
      "metadata": {
        "id": "l3FoTyRa9pLu"
      },
      "source": [
        "### Import libraries"
      ]
    },
    {
      "cell_type": "code",
      "execution_count": null,
      "metadata": {
        "colab": {
          "base_uri": "https://localhost:8080/"
        },
        "id": "f_sOaV1Y8NsL",
        "outputId": "6bc0302e-401b-42aa-9965-ac2033eba64e"
      },
      "outputs": [
        {
          "output_type": "stream",
          "name": "stdout",
          "text": [
            "2.9.2\n"
          ]
        }
      ],
      "source": [
        "import tensorflow as tf\n",
        "import numpy as np\n",
        "import os\n",
        "import random\n",
        "import pandas as pd\n",
        "import seaborn as sns\n",
        "import matplotlib as mpl\n",
        "import matplotlib.pyplot as plt\n",
        "from sklearn.model_selection import train_test_split\n",
        "from PIL import Image\n",
        "\n",
        "tfk = tf.keras\n",
        "tfkl = tf.keras.layers\n",
        "print(tf.__version__)"
      ]
    },
    {
      "cell_type": "markdown",
      "metadata": {
        "id": "pLb-N5JzUUQS"
      },
      "source": [
        "### Set seed for reproducibility"
      ]
    },
    {
      "cell_type": "code",
      "execution_count": null,
      "metadata": {
        "id": "C7HYua8HUHIj"
      },
      "outputs": [],
      "source": [
        "# Random seed for reproducibility\n",
        "seed = 42\n",
        "\n",
        "random.seed(seed)\n",
        "os.environ['PYTHONHASHSEED'] = str(seed)\n",
        "np.random.seed(seed)\n",
        "tf.random.set_seed(seed)\n",
        "tf.compat.v1.set_random_seed(seed)"
      ]
    },
    {
      "cell_type": "markdown",
      "metadata": {
        "id": "BDM82PpE3VSg"
      },
      "source": [
        "### Suppress warnings"
      ]
    },
    {
      "cell_type": "code",
      "execution_count": null,
      "metadata": {
        "id": "5fXtacjAqOIq"
      },
      "outputs": [],
      "source": [
        "import warnings\n",
        "import logging\n",
        "\n",
        "os.environ['TF_CPP_MIN_LOG_LEVEL'] = '2'\n",
        "warnings.simplefilter(action='ignore', category=FutureWarning)\n",
        "warnings.simplefilter(action='ignore', category=Warning)\n",
        "tf.get_logger().setLevel('INFO')\n",
        "tf.autograph.set_verbosity(0)\n",
        "\n",
        "tf.get_logger().setLevel(logging.ERROR)\n",
        "tf.get_logger().setLevel('ERROR')\n",
        "tf.compat.v1.logging.set_verbosity(tf.compat.v1.logging.ERROR)"
      ]
    },
    {
      "cell_type": "code",
      "execution_count": null,
      "metadata": {
        "id": "YGOHNOc-Ysny"
      },
      "outputs": [],
      "source": [
        "dataset_dir = '/content'\n",
        "classes_dir = ['Species1', 'Species2', 'Species3', 'Species4', 'Species5', 'Species6', 'Species7', 'Species8']"
      ]
    },
    {
      "cell_type": "code",
      "execution_count": null,
      "metadata": {
        "id": "YxD6WDe6Zbwt"
      },
      "outputs": [],
      "source": [
        "!unzip '/content/drive/MyDrive/Colab Notebooks/ANNDL/Challenge1/training_dataset_homework1.zip'"
      ]
    },
    {
      "cell_type": "code",
      "execution_count": null,
      "metadata": {
        "colab": {
          "base_uri": "https://localhost:8080/",
          "height": 315
        },
        "id": "9JvTRNZ5G4HI",
        "outputId": "eaeadfda-71f3-449b-9c5b-f4fb3ea7fcc5"
      },
      "outputs": [
        {
          "output_type": "stream",
          "name": "stdout",
          "text": [
            "{'Species1': 186, 'Species2': 532, 'Species3': 515, 'Species4': 511, 'Species5': 531, 'Species6': 222, 'Species7': 537, 'Species8': 508}\n"
          ]
        },
        {
          "output_type": "display_data",
          "data": {
            "text/plain": [
              "<Figure size 432x288 with 1 Axes>"
            ],
            "image/png": "[encoded data removed]"
          },
          "metadata": {
            "needs_background": "light"
          }
        }
      ],
      "source": [
        "# class count\n",
        "\n",
        "counts = {}\n",
        "\n",
        "for dir in classes_dir:\n",
        "  counts[dir] = len(os.listdir(os.path.join('/content/training_data_final', dir)))\n",
        "\n",
        "print(counts)\n",
        "\n",
        "ind = np.arange(len(counts))\n",
        "\n",
        "plt.bar(ind, list(counts.values()))\n",
        "plt.xticks(ind, list(counts.keys()))\n",
        "plt.tight_layout()\n",
        "plt.show()"
      ]
    },
    {
      "cell_type": "code",
      "execution_count": null,
      "metadata": {
        "id": "8puQOhTVYsnm"
      },
      "outputs": [],
      "source": [
        "pip install split-folders"
      ]
    },
    {
      "cell_type": "code",
      "execution_count": null,
      "metadata": {
        "id": "aDul5ncyYsnq"
      },
      "outputs": [],
      "source": [
        "import splitfolders"
      ]
    },
    {
      "cell_type": "code",
      "execution_count": null,
      "metadata": {
        "colab": {
          "base_uri": "https://localhost:8080/"
        },
        "id": "m-uEu5BQYsnt",
        "outputId": "86b42361-68fe-413a-ea16-aea26e235fca"
      },
      "outputs": [
        {
          "output_type": "stream",
          "name": "stderr",
          "text": [
            "Copying files: 3542 files [00:00, 8696.87 files/s]\n"
          ]
        }
      ],
      "source": [
        "splitfolders.ratio(\"/content/training_data_final\", # The location of dataset\n",
        "                   output=\"./\", # The output location\n",
        "                   seed=seed, # The number of seed\n",
        "                   ratio=(.85, .10, .05), # The ratio of splited dataset\n",
        "                   group_prefix=None, \n",
        "                   move=False \n",
        "                   )"
      ]
    },
    {
      "cell_type": "code",
      "execution_count": null,
      "metadata": {
        "id": "pwXUrXcHYsn1"
      },
      "outputs": [],
      "source": [
        "import shutil"
      ]
    },
    {
      "cell_type": "code",
      "execution_count": null,
      "metadata": {
        "id": "-FdCMT3zYsn6"
      },
      "outputs": [],
      "source": [
        "source = '/content/test'\n",
        "destination = '/content/val'\n",
        "\n",
        "for species in classes_dir:\n",
        "    \n",
        "    complete_source = os.path.join(source, species)\n",
        "    complete_dest = os.path.join(destination, species)\n",
        "    \n",
        "    allfiles = os.listdir(complete_source)\n",
        "\n",
        "    for f in allfiles:\n",
        "        src_path = os.path.join(complete_source, f)\n",
        "        dst_path = os.path.join(complete_dest, f)\n",
        "        shutil.move(src_path, dst_path)"
      ]
    },
    {
      "cell_type": "code",
      "execution_count": null,
      "metadata": {
        "id": "C_NoKh334NnA"
      },
      "outputs": [],
      "source": [
        "# Dataset folders \n",
        "training_dir = os.path.join(dataset_dir, 'train')\n",
        "validation_dir = os.path.join(dataset_dir, 'val')\n",
        "test_dir = os.path.join(dataset_dir, 'test')"
      ]
    },
    {
      "cell_type": "code",
      "execution_count": null,
      "metadata": {
        "id": "NSqcJ3zlBAh1"
      },
      "outputs": [],
      "source": [
        "from tensorflow.keras.preprocessing.image import ImageDataGenerator"
      ]
    },
    {
      "cell_type": "code",
      "execution_count": null,
      "metadata": {
        "id": "BdiXwi_-M-39"
      },
      "outputs": [],
      "source": [
        "from sklearn.utils import class_weight"
      ]
    },
    {
      "cell_type": "code",
      "execution_count": null,
      "metadata": {
        "id": "f3TRRfejiEyQ"
      },
      "outputs": [],
      "source": [
        "default_callbacks =[tfk.callbacks.EarlyStopping(monitor='val_accuracy', mode='max', patience=10, restore_best_weights=True)]"
      ]
    },
    {
      "cell_type": "markdown",
      "metadata": {
        "id": "bIzdPQ-hKT99"
      },
      "source": [
        "### EfficientNet"
      ]
    },
    {
      "cell_type": "code",
      "execution_count": null,
      "metadata": {
        "id": "jcXHKiXU_Xuz"
      },
      "outputs": [],
      "source": [
        "input_shape = (256, 256, 3)\n",
        "batch_size = 32\n",
        "num_classes = 8\n",
        "epochs = 200\n",
        "learning_rate = 1e-3\n",
        "patience = 10\n",
        "early_stopping = tfk.callbacks.EarlyStopping(monitor='val_accuracy', mode='max', patience=patience, restore_best_weights=True)"
      ]
    },
    {
      "cell_type": "code",
      "source": [
        "from keras.applications.efficientnet_v2 import preprocess_input"
      ],
      "metadata": {
        "id": "kE1bIpuI5nv1"
      },
      "execution_count": null,
      "outputs": []
    },
    {
      "cell_type": "code",
      "source": [
        "train_datagen = ImageDataGenerator(rotation_range=45,\n",
        "                                    height_shift_range=50,\n",
        "                                    width_shift_range=50,\n",
        "                                    zoom_range=0.3,\n",
        "                                    horizontal_flip=True,\n",
        "                                    fill_mode='reflect',\n",
        "                                    preprocessing_function=preprocess_input)\n",
        "train_gen = train_datagen.flow_from_directory(directory=training_dir,\n",
        "                                              target_size=(256, 256),\n",
        "                                              interpolation=\"bilinear\",\n",
        "                                              color_mode='rgb',\n",
        "                                              class_mode='categorical',\n",
        "                                              batch_size=batch_size,\n",
        "                                              shuffle=True,\n",
        "                                              seed=seed)\n",
        "\n",
        "val_datagen = ImageDataGenerator(preprocessing_function=preprocess_input)\n",
        "val_gen = val_datagen.flow_from_directory(directory=validation_dir,\n",
        "                                          target_size=(256, 256),\n",
        "                                          interpolation=\"bilinear\",\n",
        "                                          color_mode='rgb',\n",
        "                                          class_mode='categorical',\n",
        "                                          batch_size=batch_size,\n",
        "                                          shuffle=True,\n",
        "                                          seed=seed)"
      ],
      "metadata": {
        "colab": {
          "base_uri": "https://localhost:8080/"
        },
        "id": "FLBDDrxn5t4R",
        "outputId": "9171050c-e3d5-47fb-a076-78b99e2b4d7f"
      },
      "execution_count": null,
      "outputs": [
        {
          "output_type": "stream",
          "name": "stdout",
          "text": [
            "Found 3007 images belonging to 8 classes.\n",
            "Found 351 images belonging to 8 classes.\n"
          ]
        }
      ]
    },
    {
      "cell_type": "code",
      "source": [
        "class_weights = class_weight.compute_class_weight('balanced',\n",
        "                                                  classes=np.unique(train_gen.classes),\n",
        "                                                  y=train_gen.classes)\n",
        "train_class_weights = dict(enumerate(class_weights))"
      ],
      "metadata": {
        "id": "DNZNZJkX5xN8"
      },
      "execution_count": null,
      "outputs": []
    },
    {
      "cell_type": "code",
      "source": [
        "# import base model\n",
        "base_model = tfk.applications.EfficientNetV2B0(weights='imagenet', input_shape=input_shape, include_top=False)\n",
        "\n",
        "# Freeze base model\n",
        "base_model.trainable = False\n",
        "\n",
        "model = tfk.Sequential()\n",
        "model.add(base_model)\n",
        "model.add(tfkl.Flatten())\n",
        "model.add(tfkl.Dense(units=64, kernel_initializer=tfk.initializers.GlorotUniform(seed)))\n",
        "model.add(tfkl.Activation(\"relu\"))\n",
        "model.add(tfkl.BatchNormalization())\n",
        "model.add(tfkl.Dropout(0.35, seed=seed))\n",
        "model.add(tfkl.Dense(units=32, kernel_initializer=tfk.initializers.GlorotUniform(seed)))\n",
        "model.add(tfkl.Activation(\"relu\"))\n",
        "model.add(tfkl.BatchNormalization())\n",
        "model.add(tfkl.Dropout(0.35, seed=seed))\n",
        "model.add(\n",
        "    tfkl.Dense(units=num_classes, activation=\"softmax\",\n",
        "                kernel_initializer=tfk.initializers.GlorotUniform(seed)))\n",
        "\n",
        "model.summary()"
      ],
      "metadata": {
        "colab": {
          "base_uri": "https://localhost:8080/"
        },
        "id": "JAAQaGkK55QH",
        "outputId": "dedc3eef-71b3-4589-c28d-180ff52fca20"
      },
      "execution_count": null,
      "outputs": [
        {
          "output_type": "stream",
          "name": "stdout",
          "text": [
            "Downloading data from https://storage.googleapis.com/tensorflow/keras-applications/efficientnet_v2/efficientnetv2-b0_notop.h5\n",
            "24274472/24274472 [==============================] - 2s 0us/step\n",
            "Model: \"sequential\"\n",
            "_________________________________________________________________\n",
            " Layer (type)                Output Shape              Param #   \n",
            "=================================================================\n",
            " efficientnetv2-b0 (Function  (None, 8, 8, 1280)       5919312   \n",
            " al)                                                             \n",
            "                                                                 \n",
            " flatten (Flatten)           (None, 81920)             0         \n",
            "                                                                 \n",
            " dense (Dense)               (None, 64)                5242944   \n",
            "                                                                 \n",
            " activation (Activation)     (None, 64)                0         \n",
            "                                                                 \n",
            " batch_normalization (BatchN  (None, 64)               256       \n",
            " ormalization)                                                   \n",
            "                                                                 \n",
            " dropout (Dropout)           (None, 64)                0         \n",
            "                                                                 \n",
            " dense_1 (Dense)             (None, 32)                2080      \n",
            "                                                                 \n",
            " activation_1 (Activation)   (None, 32)                0         \n",
            "                                                                 \n",
            " batch_normalization_1 (Batc  (None, 32)               128       \n",
            " hNormalization)                                                 \n",
            "                                                                 \n",
            " dropout_1 (Dropout)         (None, 32)                0         \n",
            "                                                                 \n",
            " dense_2 (Dense)             (None, 8)                 264       \n",
            "                                                                 \n",
            "=================================================================\n",
            "Total params: 11,164,984\n",
            "Trainable params: 5,245,480\n",
            "Non-trainable params: 5,919,504\n",
            "_________________________________________________________________\n"
          ]
        }
      ]
    },
    {
      "cell_type": "code",
      "source": [
        "patience = 10\n",
        "early_stopping = tfk.callbacks.EarlyStopping(monitor='val_accuracy', mode='max', patience=patience, restore_best_weights=True)"
      ],
      "metadata": {
        "id": "jp8xEufnzEj3"
      },
      "execution_count": null,
      "outputs": []
    },
    {
      "cell_type": "code",
      "source": [
        "model.compile(loss=tfk.losses.CategoricalCrossentropy(), optimizer=tfk.optimizers.Adam(1e-5), metrics='accuracy')\n",
        "efficient_history_tl = model.fit(\n",
        "    x=train_gen,\n",
        "    epochs=epochs,\n",
        "    validation_data=val_gen,\n",
        "    callbacks=[early_stopping],\n",
        "    class_weight=train_class_weights\n",
        ").history"
      ],
      "metadata": {
        "colab": {
          "base_uri": "https://localhost:8080/"
        },
        "id": "F6n1oSEL59li",
        "outputId": "2f53614a-0996-4b84-d15b-fc121b24a5b6"
      },
      "execution_count": null,
      "outputs": [
        {
          "output_type": "stream",
          "name": "stdout",
          "text": [
            "Epoch 1/200\n",
            "100/100 [==============================] - 69s 493ms/step - loss: 2.6443 - accuracy: 0.1916 - val_loss: 1.8575 - val_accuracy: 0.2869\n",
            "Epoch 2/200\n",
            "100/100 [==============================] - 47s 472ms/step - loss: 2.2196 - accuracy: 0.2806 - val_loss: 1.6784 - val_accuracy: 0.3482\n",
            "Epoch 3/200\n",
            "100/100 [==============================] - 47s 471ms/step - loss: 2.0562 - accuracy: 0.3117 - val_loss: 1.5469 - val_accuracy: 0.3872\n",
            "Epoch 4/200\n",
            "100/100 [==============================] - 50s 499ms/step - loss: 1.9460 - accuracy: 0.3399 - val_loss: 1.4547 - val_accuracy: 0.4596\n",
            "Epoch 5/200\n",
            "100/100 [==============================] - 47s 474ms/step - loss: 1.8207 - accuracy: 0.3754 - val_loss: 1.4160 - val_accuracy: 0.4540\n",
            "Epoch 6/200\n",
            "100/100 [==============================] - 47s 470ms/step - loss: 1.8032 - accuracy: 0.3849 - val_loss: 1.3782 - val_accuracy: 0.4652\n",
            "Epoch 7/200\n",
            "100/100 [==============================] - 50s 505ms/step - loss: 1.7203 - accuracy: 0.4021 - val_loss: 1.3462 - val_accuracy: 0.5153\n",
            "Epoch 8/200\n",
            "100/100 [==============================] - 47s 473ms/step - loss: 1.6740 - accuracy: 0.4307 - val_loss: 1.2756 - val_accuracy: 0.5348\n",
            "Epoch 9/200\n",
            "100/100 [==============================] - 47s 467ms/step - loss: 1.6019 - accuracy: 0.4392 - val_loss: 1.2559 - val_accuracy: 0.5432\n",
            "Epoch 10/200\n",
            "100/100 [==============================] - 47s 466ms/step - loss: 1.5929 - accuracy: 0.4427 - val_loss: 1.2093 - val_accuracy: 0.5710\n",
            "Epoch 11/200\n",
            "100/100 [==============================] - 50s 503ms/step - loss: 1.5742 - accuracy: 0.4546 - val_loss: 1.1823 - val_accuracy: 0.5850\n",
            "Epoch 12/200\n",
            "100/100 [==============================] - 48s 476ms/step - loss: 1.5395 - accuracy: 0.4502 - val_loss: 1.1674 - val_accuracy: 0.5933\n",
            "Epoch 13/200\n",
            "100/100 [==============================] - 47s 469ms/step - loss: 1.5047 - accuracy: 0.4804 - val_loss: 1.1340 - val_accuracy: 0.6017\n",
            "Epoch 14/200\n",
            "100/100 [==============================] - 47s 469ms/step - loss: 1.4791 - accuracy: 0.4794 - val_loss: 1.1191 - val_accuracy: 0.5989\n",
            "Epoch 15/200\n",
            "100/100 [==============================] - 47s 469ms/step - loss: 1.4698 - accuracy: 0.4863 - val_loss: 1.0817 - val_accuracy: 0.6518\n",
            "Epoch 16/200\n",
            "100/100 [==============================] - 50s 499ms/step - loss: 1.4662 - accuracy: 0.4832 - val_loss: 1.0615 - val_accuracy: 0.6546\n",
            "Epoch 17/200\n",
            "100/100 [==============================] - 47s 468ms/step - loss: 1.4194 - accuracy: 0.5159 - val_loss: 1.0488 - val_accuracy: 0.6602\n",
            "Epoch 18/200\n",
            "100/100 [==============================] - 47s 470ms/step - loss: 1.4274 - accuracy: 0.5083 - val_loss: 1.0281 - val_accuracy: 0.6518\n",
            "Epoch 19/200\n",
            "100/100 [==============================] - 47s 468ms/step - loss: 1.4318 - accuracy: 0.5017 - val_loss: 1.0125 - val_accuracy: 0.6630\n",
            "Epoch 20/200\n",
            "100/100 [==============================] - 50s 500ms/step - loss: 1.3482 - accuracy: 0.5331 - val_loss: 0.9928 - val_accuracy: 0.6825\n",
            "Epoch 21/200\n",
            "100/100 [==============================] - 47s 466ms/step - loss: 1.3246 - accuracy: 0.5388 - val_loss: 0.9912 - val_accuracy: 0.6880\n",
            "Epoch 22/200\n",
            "100/100 [==============================] - 46s 464ms/step - loss: 1.3125 - accuracy: 0.5391 - val_loss: 0.9786 - val_accuracy: 0.6769\n",
            "Epoch 23/200\n",
            "100/100 [==============================] - 47s 466ms/step - loss: 1.3238 - accuracy: 0.5404 - val_loss: 0.9645 - val_accuracy: 0.6713\n",
            "Epoch 24/200\n",
            "100/100 [==============================] - 47s 470ms/step - loss: 1.3435 - accuracy: 0.5306 - val_loss: 0.9625 - val_accuracy: 0.6713\n",
            "Epoch 25/200\n",
            "100/100 [==============================] - 47s 467ms/step - loss: 1.3285 - accuracy: 0.5372 - val_loss: 0.9503 - val_accuracy: 0.6797\n",
            "Epoch 26/200\n",
            "100/100 [==============================] - 47s 465ms/step - loss: 1.2652 - accuracy: 0.5583 - val_loss: 0.9400 - val_accuracy: 0.6797\n",
            "Epoch 27/200\n",
            "100/100 [==============================] - 46s 462ms/step - loss: 1.2645 - accuracy: 0.5558 - val_loss: 0.9419 - val_accuracy: 0.7019\n",
            "Epoch 28/200\n",
            "100/100 [==============================] - 47s 466ms/step - loss: 1.2637 - accuracy: 0.5633 - val_loss: 0.9379 - val_accuracy: 0.6825\n",
            "Epoch 29/200\n",
            "100/100 [==============================] - 46s 462ms/step - loss: 1.2577 - accuracy: 0.5664 - val_loss: 0.9280 - val_accuracy: 0.6797\n",
            "Epoch 30/200\n",
            "100/100 [==============================] - 47s 466ms/step - loss: 1.2548 - accuracy: 0.5617 - val_loss: 0.9129 - val_accuracy: 0.7047\n",
            "Epoch 31/200\n",
            "100/100 [==============================] - 47s 467ms/step - loss: 1.2447 - accuracy: 0.5649 - val_loss: 0.8978 - val_accuracy: 0.7075\n",
            "Epoch 32/200\n",
            "100/100 [==============================] - 46s 463ms/step - loss: 1.2470 - accuracy: 0.5686 - val_loss: 0.9017 - val_accuracy: 0.7075\n",
            "Epoch 33/200\n",
            "100/100 [==============================] - 46s 463ms/step - loss: 1.2136 - accuracy: 0.5806 - val_loss: 0.8892 - val_accuracy: 0.7019\n",
            "Epoch 34/200\n",
            "100/100 [==============================] - 46s 464ms/step - loss: 1.2128 - accuracy: 0.5752 - val_loss: 0.8805 - val_accuracy: 0.7075\n",
            "Epoch 35/200\n",
            "100/100 [==============================] - 50s 499ms/step - loss: 1.2212 - accuracy: 0.5759 - val_loss: 0.8612 - val_accuracy: 0.7242\n",
            "Epoch 36/200\n",
            "100/100 [==============================] - 46s 464ms/step - loss: 1.1679 - accuracy: 0.5928 - val_loss: 0.8548 - val_accuracy: 0.7298\n",
            "Epoch 37/200\n",
            "100/100 [==============================] - 47s 467ms/step - loss: 1.1768 - accuracy: 0.5850 - val_loss: 0.8772 - val_accuracy: 0.7103\n",
            "Epoch 38/200\n",
            "100/100 [==============================] - 50s 496ms/step - loss: 1.1615 - accuracy: 0.5875 - val_loss: 0.8589 - val_accuracy: 0.7047\n",
            "Epoch 39/200\n",
            "100/100 [==============================] - 46s 460ms/step - loss: 1.1488 - accuracy: 0.6070 - val_loss: 0.8497 - val_accuracy: 0.7298\n",
            "Epoch 40/200\n",
            "100/100 [==============================] - 46s 463ms/step - loss: 1.1369 - accuracy: 0.6004 - val_loss: 0.8403 - val_accuracy: 0.7270\n",
            "Epoch 41/200\n",
            "100/100 [==============================] - 49s 486ms/step - loss: 1.1122 - accuracy: 0.6214 - val_loss: 0.8355 - val_accuracy: 0.7187\n",
            "Epoch 42/200\n",
            "100/100 [==============================] - 47s 465ms/step - loss: 1.1160 - accuracy: 0.6142 - val_loss: 0.8394 - val_accuracy: 0.7354\n",
            "Epoch 43/200\n",
            "100/100 [==============================] - 47s 465ms/step - loss: 1.0950 - accuracy: 0.6192 - val_loss: 0.8268 - val_accuracy: 0.7326\n",
            "Epoch 44/200\n",
            "100/100 [==============================] - 46s 464ms/step - loss: 1.1079 - accuracy: 0.6148 - val_loss: 0.8117 - val_accuracy: 0.7465\n",
            "Epoch 45/200\n",
            "100/100 [==============================] - 48s 480ms/step - loss: 1.1197 - accuracy: 0.6013 - val_loss: 0.8183 - val_accuracy: 0.7326\n",
            "Epoch 46/200\n",
            "100/100 [==============================] - 48s 472ms/step - loss: 1.1170 - accuracy: 0.6177 - val_loss: 0.8138 - val_accuracy: 0.7354\n",
            "Epoch 47/200\n",
            "100/100 [==============================] - 47s 465ms/step - loss: 1.1196 - accuracy: 0.6092 - val_loss: 0.8105 - val_accuracy: 0.7493\n",
            "Epoch 48/200\n",
            "100/100 [==============================] - 46s 464ms/step - loss: 1.0774 - accuracy: 0.6236 - val_loss: 0.8244 - val_accuracy: 0.7409\n",
            "Epoch 49/200\n",
            "100/100 [==============================] - 46s 459ms/step - loss: 1.0806 - accuracy: 0.6346 - val_loss: 0.8333 - val_accuracy: 0.7409\n",
            "Epoch 50/200\n",
            "100/100 [==============================] - 49s 488ms/step - loss: 1.0644 - accuracy: 0.6431 - val_loss: 0.8190 - val_accuracy: 0.7354\n",
            "Epoch 51/200\n",
            "100/100 [==============================] - 47s 465ms/step - loss: 1.0712 - accuracy: 0.6302 - val_loss: 0.8229 - val_accuracy: 0.7437\n",
            "Epoch 52/200\n",
            "100/100 [==============================] - 46s 459ms/step - loss: 1.0665 - accuracy: 0.6400 - val_loss: 0.8049 - val_accuracy: 0.7521\n",
            "Epoch 53/200\n",
            "100/100 [==============================] - 46s 460ms/step - loss: 1.0851 - accuracy: 0.6318 - val_loss: 0.7836 - val_accuracy: 0.7632\n",
            "Epoch 54/200\n",
            "100/100 [==============================] - 49s 491ms/step - loss: 1.0772 - accuracy: 0.6331 - val_loss: 0.7897 - val_accuracy: 0.7549\n",
            "Epoch 55/200\n",
            "100/100 [==============================] - 47s 470ms/step - loss: 1.0663 - accuracy: 0.6334 - val_loss: 0.7751 - val_accuracy: 0.7549\n",
            "Epoch 56/200\n",
            "100/100 [==============================] - 47s 468ms/step - loss: 1.0561 - accuracy: 0.6412 - val_loss: 0.7725 - val_accuracy: 0.7632\n",
            "Epoch 57/200\n",
            "100/100 [==============================] - 49s 494ms/step - loss: 1.0548 - accuracy: 0.6368 - val_loss: 0.7728 - val_accuracy: 0.7409\n",
            "Epoch 58/200\n",
            "100/100 [==============================] - 46s 464ms/step - loss: 1.0472 - accuracy: 0.6494 - val_loss: 0.7746 - val_accuracy: 0.7465\n",
            "Epoch 59/200\n",
            "100/100 [==============================] - 46s 461ms/step - loss: 1.0239 - accuracy: 0.6478 - val_loss: 0.7854 - val_accuracy: 0.7409\n",
            "Epoch 60/200\n",
            "100/100 [==============================] - 46s 463ms/step - loss: 1.0434 - accuracy: 0.6340 - val_loss: 0.7738 - val_accuracy: 0.7326\n",
            "Epoch 61/200\n",
            "100/100 [==============================] - 46s 459ms/step - loss: 1.0188 - accuracy: 0.6415 - val_loss: 0.7553 - val_accuracy: 0.7521\n",
            "Epoch 62/200\n",
            "100/100 [==============================] - 46s 460ms/step - loss: 1.0010 - accuracy: 0.6629 - val_loss: 0.7554 - val_accuracy: 0.7577\n",
            "Epoch 63/200\n",
            "100/100 [==============================] - 46s 464ms/step - loss: 1.0099 - accuracy: 0.6598 - val_loss: 0.7327 - val_accuracy: 0.7521\n"
          ]
        }
      ]
    },
    {
      "cell_type": "code",
      "source": [
        "model.save(\"/content/drive/MyDrive/Colab Notebooks/ANNDL/Challenge1/Experiments/efficientnet_tl2\")"
      ],
      "metadata": {
        "colab": {
          "base_uri": "https://localhost:8080/"
        },
        "id": "cuMeDZCg6ALm",
        "outputId": "7dd342c9-f92b-4919-9833-bce3983b68d0"
      },
      "execution_count": null,
      "outputs": [
        {
          "output_type": "stream",
          "name": "stderr",
          "text": [
            "WARNING:absl:Function `_wrapped_model` contains input name(s) efficientnetv2-b0_input with unsupported characters which will be renamed to efficientnetv2_b0_input in the SavedModel.\n",
            "WARNING:absl:Found untraced functions such as _jit_compiled_convolution_op, _jit_compiled_convolution_op, _jit_compiled_convolution_op, _jit_compiled_convolution_op, _jit_compiled_convolution_op while saving (showing 5 of 91). These functions will not be directly callable after loading.\n"
          ]
        }
      ]
    },
    {
      "cell_type": "code",
      "source": [
        "model = tfk.models.load_model('/content/drive/MyDrive/Colab Notebooks/ANNDL/Challenge1/Experiments/efficientnet_tl2')"
      ],
      "metadata": {
        "id": "P705M5Vl7Kqh"
      },
      "execution_count": null,
      "outputs": []
    },
    {
      "cell_type": "code",
      "source": [
        "#base_model.trainable = True\n",
        "model.get_layer('efficientnetv2-b0').trainable = True\n",
        "\n",
        "model.compile(loss=tfk.losses.CategoricalCrossentropy(), optimizer=tfk.optimizers.Adam(1e-5), metrics='accuracy')\n",
        "efficient_history_ft = model.fit(\n",
        "    x=train_gen,\n",
        "    epochs=epochs,\n",
        "    validation_data=val_gen,\n",
        "    callbacks=[early_stopping],\n",
        "    class_weight=train_class_weights\n",
        ").history"
      ],
      "metadata": {
        "colab": {
          "base_uri": "https://localhost:8080/"
        },
        "id": "NXoeYIyN6DX_",
        "outputId": "a19b5c9d-e46a-42f6-afa7-27802d0eaecd"
      },
      "execution_count": null,
      "outputs": [
        {
          "output_type": "stream",
          "name": "stdout",
          "text": [
            "Epoch 1/200\n",
            "100/100 [==============================] - 70s 556ms/step - loss: 2.4526 - accuracy: 0.2419 - val_loss: 1.9461 - val_accuracy: 0.2953\n",
            "Epoch 2/200\n",
            "100/100 [==============================] - 52s 523ms/step - loss: 2.2761 - accuracy: 0.2686 - val_loss: 1.7246 - val_accuracy: 0.3760\n",
            "Epoch 3/200\n",
            "100/100 [==============================] - 52s 520ms/step - loss: 2.1010 - accuracy: 0.2994 - val_loss: 1.6172 - val_accuracy: 0.4123\n",
            "Epoch 4/200\n",
            "100/100 [==============================] - 52s 521ms/step - loss: 1.9934 - accuracy: 0.3299 - val_loss: 1.5576 - val_accuracy: 0.4373\n",
            "Epoch 5/200\n",
            "100/100 [==============================] - 55s 550ms/step - loss: 1.9187 - accuracy: 0.3516 - val_loss: 1.4857 - val_accuracy: 0.4708\n",
            "Epoch 6/200\n",
            "100/100 [==============================] - 52s 521ms/step - loss: 1.8632 - accuracy: 0.3648 - val_loss: 1.4330 - val_accuracy: 0.4847\n",
            "Epoch 7/200\n",
            "100/100 [==============================] - 52s 519ms/step - loss: 1.8098 - accuracy: 0.3792 - val_loss: 1.3954 - val_accuracy: 0.5070\n",
            "Epoch 8/200\n",
            "100/100 [==============================] - 52s 518ms/step - loss: 1.7716 - accuracy: 0.3968 - val_loss: 1.3626 - val_accuracy: 0.5097\n",
            "Epoch 9/200\n",
            "100/100 [==============================] - 52s 517ms/step - loss: 1.7118 - accuracy: 0.4081 - val_loss: 1.3171 - val_accuracy: 0.5292\n",
            "Epoch 10/200\n",
            "100/100 [==============================] - 52s 521ms/step - loss: 1.6690 - accuracy: 0.4276 - val_loss: 1.2948 - val_accuracy: 0.5320\n",
            "Epoch 11/200\n",
            "100/100 [==============================] - 55s 550ms/step - loss: 1.5758 - accuracy: 0.4471 - val_loss: 1.2459 - val_accuracy: 0.5627\n",
            "Epoch 12/200\n",
            "100/100 [==============================] - 52s 521ms/step - loss: 1.5438 - accuracy: 0.4669 - val_loss: 1.2062 - val_accuracy: 0.5627\n",
            "Epoch 13/200\n",
            "100/100 [==============================] - 52s 521ms/step - loss: 1.5574 - accuracy: 0.4609 - val_loss: 1.1970 - val_accuracy: 0.5738\n",
            "Epoch 14/200\n",
            "100/100 [==============================] - 52s 520ms/step - loss: 1.5691 - accuracy: 0.4590 - val_loss: 1.1566 - val_accuracy: 0.5766\n",
            "Epoch 15/200\n",
            "100/100 [==============================] - 55s 553ms/step - loss: 1.5468 - accuracy: 0.4621 - val_loss: 1.1345 - val_accuracy: 0.6184\n",
            "Epoch 16/200\n",
            "100/100 [==============================] - 52s 517ms/step - loss: 1.4662 - accuracy: 0.4716 - val_loss: 1.1226 - val_accuracy: 0.6017\n",
            "Epoch 17/200\n",
            "100/100 [==============================] - 52s 514ms/step - loss: 1.4452 - accuracy: 0.4920 - val_loss: 1.1005 - val_accuracy: 0.6267\n",
            "Epoch 18/200\n",
            "100/100 [==============================] - 55s 549ms/step - loss: 1.3845 - accuracy: 0.5174 - val_loss: 1.0788 - val_accuracy: 0.6184\n",
            "Epoch 19/200\n",
            "100/100 [==============================] - 53s 525ms/step - loss: 1.4045 - accuracy: 0.5002 - val_loss: 1.0494 - val_accuracy: 0.6490\n",
            "Epoch 20/200\n",
            "100/100 [==============================] - 52s 519ms/step - loss: 1.4006 - accuracy: 0.5159 - val_loss: 1.0337 - val_accuracy: 0.6490\n",
            "Epoch 21/200\n",
            "100/100 [==============================] - 52s 517ms/step - loss: 1.3431 - accuracy: 0.5294 - val_loss: 1.0305 - val_accuracy: 0.6462\n",
            "Epoch 22/200\n",
            "100/100 [==============================] - 52s 521ms/step - loss: 1.3498 - accuracy: 0.5313 - val_loss: 1.0161 - val_accuracy: 0.6351\n",
            "Epoch 23/200\n",
            "100/100 [==============================] - 52s 516ms/step - loss: 1.3322 - accuracy: 0.5360 - val_loss: 0.9895 - val_accuracy: 0.6685\n",
            "Epoch 24/200\n",
            "100/100 [==============================] - 52s 516ms/step - loss: 1.3171 - accuracy: 0.5372 - val_loss: 0.9842 - val_accuracy: 0.6685\n",
            "Epoch 25/200\n",
            "100/100 [==============================] - 52s 516ms/step - loss: 1.3490 - accuracy: 0.5341 - val_loss: 0.9703 - val_accuracy: 0.6602\n",
            "Epoch 26/200\n",
            "100/100 [==============================] - 53s 524ms/step - loss: 1.3141 - accuracy: 0.5413 - val_loss: 0.9617 - val_accuracy: 0.6852\n",
            "Epoch 27/200\n",
            "100/100 [==============================] - 52s 523ms/step - loss: 1.2627 - accuracy: 0.5649 - val_loss: 0.9453 - val_accuracy: 0.6769\n",
            "Epoch 28/200\n",
            "100/100 [==============================] - 55s 539ms/step - loss: 1.2817 - accuracy: 0.5567 - val_loss: 0.9344 - val_accuracy: 0.6769\n",
            "Epoch 29/200\n",
            "100/100 [==============================] - 52s 517ms/step - loss: 1.2382 - accuracy: 0.5756 - val_loss: 0.9322 - val_accuracy: 0.6741\n",
            "Epoch 30/200\n",
            "100/100 [==============================] - 52s 517ms/step - loss: 1.2428 - accuracy: 0.5712 - val_loss: 0.9212 - val_accuracy: 0.6685\n",
            "Epoch 31/200\n",
            "100/100 [==============================] - 55s 553ms/step - loss: 1.2168 - accuracy: 0.5818 - val_loss: 0.8855 - val_accuracy: 0.6880\n",
            "Epoch 32/200\n",
            "100/100 [==============================] - 53s 525ms/step - loss: 1.1757 - accuracy: 0.5947 - val_loss: 0.8815 - val_accuracy: 0.6964\n",
            "Epoch 33/200\n",
            "100/100 [==============================] - 51s 513ms/step - loss: 1.2118 - accuracy: 0.5844 - val_loss: 0.8674 - val_accuracy: 0.6852\n",
            "Epoch 34/200\n",
            "100/100 [==============================] - 55s 550ms/step - loss: 1.1676 - accuracy: 0.5891 - val_loss: 0.8624 - val_accuracy: 0.6964\n",
            "Epoch 35/200\n",
            "100/100 [==============================] - 52s 520ms/step - loss: 1.1591 - accuracy: 0.6048 - val_loss: 0.8368 - val_accuracy: 0.7159\n",
            "Epoch 36/200\n",
            "100/100 [==============================] - 53s 527ms/step - loss: 1.1573 - accuracy: 0.6067 - val_loss: 0.8285 - val_accuracy: 0.7187\n",
            "Epoch 37/200\n",
            "100/100 [==============================] - 53s 526ms/step - loss: 1.1018 - accuracy: 0.6192 - val_loss: 0.8006 - val_accuracy: 0.7354\n",
            "Epoch 38/200\n",
            "100/100 [==============================] - 52s 522ms/step - loss: 1.1315 - accuracy: 0.6001 - val_loss: 0.8068 - val_accuracy: 0.7159\n",
            "Epoch 39/200\n",
            "100/100 [==============================] - 52s 520ms/step - loss: 1.0983 - accuracy: 0.6230 - val_loss: 0.7869 - val_accuracy: 0.7354\n",
            "Epoch 40/200\n",
            "100/100 [==============================] - 56s 557ms/step - loss: 1.0830 - accuracy: 0.6271 - val_loss: 0.7771 - val_accuracy: 0.7382\n",
            "Epoch 41/200\n",
            "100/100 [==============================] - 53s 534ms/step - loss: 1.1156 - accuracy: 0.6283 - val_loss: 0.7683 - val_accuracy: 0.7409\n",
            "Epoch 42/200\n",
            "100/100 [==============================] - 53s 528ms/step - loss: 1.0954 - accuracy: 0.6236 - val_loss: 0.7672 - val_accuracy: 0.7409\n",
            "Epoch 43/200\n",
            "100/100 [==============================] - 52s 520ms/step - loss: 1.0677 - accuracy: 0.6393 - val_loss: 0.7637 - val_accuracy: 0.7354\n",
            "Epoch 44/200\n",
            "100/100 [==============================] - 52s 520ms/step - loss: 1.0469 - accuracy: 0.6481 - val_loss: 0.7403 - val_accuracy: 0.7632\n",
            "Epoch 45/200\n",
            "100/100 [==============================] - 52s 522ms/step - loss: 1.0346 - accuracy: 0.6466 - val_loss: 0.7415 - val_accuracy: 0.7688\n",
            "Epoch 46/200\n",
            "100/100 [==============================] - 52s 522ms/step - loss: 1.0253 - accuracy: 0.6569 - val_loss: 0.7185 - val_accuracy: 0.7577\n",
            "Epoch 47/200\n",
            "100/100 [==============================] - 56s 558ms/step - loss: 0.9997 - accuracy: 0.6604 - val_loss: 0.7250 - val_accuracy: 0.7604\n",
            "Epoch 48/200\n",
            "100/100 [==============================] - 53s 524ms/step - loss: 1.0036 - accuracy: 0.6616 - val_loss: 0.7114 - val_accuracy: 0.7632\n",
            "Epoch 49/200\n",
            "100/100 [==============================] - 53s 530ms/step - loss: 0.9757 - accuracy: 0.6635 - val_loss: 0.6899 - val_accuracy: 0.7632\n",
            "Epoch 50/200\n",
            "100/100 [==============================] - 53s 526ms/step - loss: 0.9662 - accuracy: 0.6698 - val_loss: 0.6829 - val_accuracy: 0.7660\n",
            "Epoch 51/200\n",
            "100/100 [==============================] - 53s 528ms/step - loss: 0.9629 - accuracy: 0.6755 - val_loss: 0.6862 - val_accuracy: 0.7660\n",
            "Epoch 52/200\n",
            "100/100 [==============================] - 56s 561ms/step - loss: 0.9465 - accuracy: 0.6849 - val_loss: 0.6828 - val_accuracy: 0.7688\n",
            "Epoch 53/200\n",
            "100/100 [==============================] - 53s 525ms/step - loss: 0.9323 - accuracy: 0.6915 - val_loss: 0.6803 - val_accuracy: 0.7660\n",
            "Epoch 54/200\n",
            "100/100 [==============================] - 52s 522ms/step - loss: 0.9299 - accuracy: 0.6949 - val_loss: 0.6726 - val_accuracy: 0.7660\n",
            "Epoch 55/200\n",
            "100/100 [==============================] - 53s 532ms/step - loss: 0.9166 - accuracy: 0.6915 - val_loss: 0.6580 - val_accuracy: 0.7716\n",
            "Epoch 56/200\n",
            "100/100 [==============================] - 57s 564ms/step - loss: 0.9341 - accuracy: 0.6927 - val_loss: 0.6487 - val_accuracy: 0.7827\n",
            "Epoch 57/200\n",
            "100/100 [==============================] - 54s 533ms/step - loss: 0.9070 - accuracy: 0.6978 - val_loss: 0.6421 - val_accuracy: 0.7799\n",
            "Epoch 58/200\n",
            "100/100 [==============================] - 53s 529ms/step - loss: 0.9123 - accuracy: 0.7044 - val_loss: 0.6303 - val_accuracy: 0.7883\n",
            "Epoch 59/200\n",
            "100/100 [==============================] - 53s 528ms/step - loss: 0.9103 - accuracy: 0.6987 - val_loss: 0.6378 - val_accuracy: 0.7827\n",
            "Epoch 60/200\n",
            "100/100 [==============================] - 53s 529ms/step - loss: 0.9029 - accuracy: 0.7103 - val_loss: 0.6191 - val_accuracy: 0.7827\n",
            "Epoch 61/200\n",
            "100/100 [==============================] - 53s 530ms/step - loss: 0.8779 - accuracy: 0.7179 - val_loss: 0.6088 - val_accuracy: 0.7967\n",
            "Epoch 62/200\n",
            "100/100 [==============================] - 53s 529ms/step - loss: 0.8932 - accuracy: 0.7044 - val_loss: 0.6066 - val_accuracy: 0.7883\n",
            "Epoch 63/200\n",
            "100/100 [==============================] - 53s 530ms/step - loss: 0.8623 - accuracy: 0.7128 - val_loss: 0.6047 - val_accuracy: 0.7883\n",
            "Epoch 64/200\n",
            "100/100 [==============================] - 53s 531ms/step - loss: 0.8496 - accuracy: 0.7144 - val_loss: 0.5798 - val_accuracy: 0.7967\n",
            "Epoch 65/200\n",
            "100/100 [==============================] - 53s 531ms/step - loss: 0.8230 - accuracy: 0.7295 - val_loss: 0.5940 - val_accuracy: 0.7967\n",
            "Epoch 66/200\n",
            "100/100 [==============================] - 56s 563ms/step - loss: 0.8365 - accuracy: 0.7330 - val_loss: 0.5842 - val_accuracy: 0.8050\n",
            "Epoch 67/200\n",
            "100/100 [==============================] - 53s 525ms/step - loss: 0.8318 - accuracy: 0.7355 - val_loss: 0.5782 - val_accuracy: 0.8050\n",
            "Epoch 68/200\n",
            "100/100 [==============================] - 53s 524ms/step - loss: 0.8286 - accuracy: 0.7317 - val_loss: 0.5719 - val_accuracy: 0.8078\n",
            "Epoch 69/200\n",
            "100/100 [==============================] - 55s 553ms/step - loss: 0.8186 - accuracy: 0.7389 - val_loss: 0.5461 - val_accuracy: 0.8134\n",
            "Epoch 70/200\n",
            "100/100 [==============================] - 52s 518ms/step - loss: 0.7980 - accuracy: 0.7449 - val_loss: 0.5577 - val_accuracy: 0.8078\n",
            "Epoch 71/200\n",
            "100/100 [==============================] - 52s 520ms/step - loss: 0.8138 - accuracy: 0.7314 - val_loss: 0.5495 - val_accuracy: 0.8106\n",
            "Epoch 72/200\n",
            "100/100 [==============================] - 55s 552ms/step - loss: 0.7957 - accuracy: 0.7487 - val_loss: 0.5330 - val_accuracy: 0.8273\n",
            "Epoch 73/200\n",
            "100/100 [==============================] - 52s 521ms/step - loss: 0.7794 - accuracy: 0.7534 - val_loss: 0.5315 - val_accuracy: 0.8301\n",
            "Epoch 74/200\n",
            "100/100 [==============================] - 52s 518ms/step - loss: 0.7717 - accuracy: 0.7493 - val_loss: 0.5317 - val_accuracy: 0.8273\n",
            "Epoch 75/200\n",
            "100/100 [==============================] - 55s 552ms/step - loss: 0.7743 - accuracy: 0.7537 - val_loss: 0.5255 - val_accuracy: 0.8357\n",
            "Epoch 76/200\n",
            "100/100 [==============================] - 52s 519ms/step - loss: 0.7554 - accuracy: 0.7487 - val_loss: 0.5378 - val_accuracy: 0.8162\n",
            "Epoch 77/200\n",
            "100/100 [==============================] - 52s 521ms/step - loss: 0.7565 - accuracy: 0.7672 - val_loss: 0.5081 - val_accuracy: 0.8384\n",
            "Epoch 78/200\n",
            "100/100 [==============================] - 52s 518ms/step - loss: 0.7300 - accuracy: 0.7744 - val_loss: 0.5079 - val_accuracy: 0.8357\n",
            "Epoch 79/200\n",
            "100/100 [==============================] - 52s 516ms/step - loss: 0.7604 - accuracy: 0.7619 - val_loss: 0.5141 - val_accuracy: 0.8329\n",
            "Epoch 80/200\n",
            "100/100 [==============================] - 53s 530ms/step - loss: 0.7487 - accuracy: 0.7615 - val_loss: 0.5000 - val_accuracy: 0.8524\n",
            "Epoch 81/200\n",
            "100/100 [==============================] - 52s 518ms/step - loss: 0.7273 - accuracy: 0.7707 - val_loss: 0.4855 - val_accuracy: 0.8524\n",
            "Epoch 82/200\n",
            "100/100 [==============================] - 52s 518ms/step - loss: 0.7022 - accuracy: 0.7798 - val_loss: 0.4756 - val_accuracy: 0.8719\n",
            "Epoch 83/200\n",
            "100/100 [==============================] - 55s 550ms/step - loss: 0.7340 - accuracy: 0.7716 - val_loss: 0.4791 - val_accuracy: 0.8635\n",
            "Epoch 84/200\n",
            "100/100 [==============================] - 52s 520ms/step - loss: 0.7275 - accuracy: 0.7672 - val_loss: 0.4920 - val_accuracy: 0.8357\n",
            "Epoch 85/200\n",
            "100/100 [==============================] - 52s 516ms/step - loss: 0.7009 - accuracy: 0.7826 - val_loss: 0.4719 - val_accuracy: 0.8440\n",
            "Epoch 86/200\n",
            "100/100 [==============================] - 52s 515ms/step - loss: 0.6912 - accuracy: 0.7839 - val_loss: 0.4696 - val_accuracy: 0.8579\n",
            "Epoch 87/200\n",
            "100/100 [==============================] - 55s 542ms/step - loss: 0.7019 - accuracy: 0.7826 - val_loss: 0.4559 - val_accuracy: 0.8691\n",
            "Epoch 88/200\n",
            "100/100 [==============================] - 52s 515ms/step - loss: 0.7007 - accuracy: 0.7820 - val_loss: 0.4605 - val_accuracy: 0.8524\n",
            "Epoch 89/200\n",
            "100/100 [==============================] - 52s 514ms/step - loss: 0.6899 - accuracy: 0.7901 - val_loss: 0.4602 - val_accuracy: 0.8663\n",
            "Epoch 90/200\n",
            "100/100 [==============================] - 55s 549ms/step - loss: 0.6842 - accuracy: 0.7820 - val_loss: 0.4429 - val_accuracy: 0.8691\n",
            "Epoch 91/200\n",
            "100/100 [==============================] - 52s 516ms/step - loss: 0.6511 - accuracy: 0.7955 - val_loss: 0.4536 - val_accuracy: 0.8579\n",
            "Epoch 92/200\n",
            "100/100 [==============================] - 52s 517ms/step - loss: 0.6430 - accuracy: 0.7986 - val_loss: 0.4468 - val_accuracy: 0.8691\n"
          ]
        }
      ]
    },
    {
      "cell_type": "code",
      "source": [
        "model.save(\"/content/drive/MyDrive/Colab Notebooks/ANNDL/Challenge1/Experiments/efficientnet_ft2\")"
      ],
      "metadata": {
        "colab": {
          "base_uri": "https://localhost:8080/"
        },
        "id": "gSiSE2bF6Grc",
        "outputId": "18936fcf-fda8-46ff-a104-9e8cafe6295a"
      },
      "execution_count": null,
      "outputs": [
        {
          "output_type": "stream",
          "name": "stderr",
          "text": [
            "WARNING:absl:Function `_wrapped_model` contains input name(s) efficientnetv2-b0_input with unsupported characters which will be renamed to efficientnetv2_b0_input in the SavedModel.\n",
            "WARNING:absl:Found untraced functions such as _jit_compiled_convolution_op, _jit_compiled_convolution_op, _jit_compiled_convolution_op, _jit_compiled_convolution_op, _jit_compiled_convolution_op while saving (showing 5 of 91). These functions will not be directly callable after loading.\n"
          ]
        }
      ]
    },
    {
      "cell_type": "markdown",
      "metadata": {
        "id": "Zcfnb2B_ECwY"
      },
      "source": [
        "### Performance Evaluation"
      ]
    },
    {
      "cell_type": "code",
      "source": [
        "model = tfk.models.load_model(\"/content/drive/MyDrive/Colab Notebooks/ANNDL/Challenge1/Experiments/efficientnet_ft2\")"
      ],
      "metadata": {
        "id": "n8_SaXF1zdLK"
      },
      "execution_count": null,
      "outputs": []
    },
    {
      "cell_type": "code",
      "execution_count": null,
      "metadata": {
        "id": "3WvJnDiKA4WW",
        "colab": {
          "base_uri": "https://localhost:8080/",
          "height": 655
        },
        "outputId": "f532660e-f0ae-4497-ffa0-6f09afd99f15"
      },
      "outputs": [
        {
          "output_type": "display_data",
          "data": {
            "text/plain": [
              "<Figure size 1080x360 with 1 Axes>"
            ],
            "image/png": "[encoded data removed]"
          },
          "metadata": {
            "needs_background": "light"
          }
        },
        {
          "output_type": "display_data",
          "data": {
            "text/plain": [
              "<Figure size 1080x360 with 1 Axes>"
            ],
            "image/png": "[encoded data removed]"
          },
          "metadata": {
            "needs_background": "light"
          }
        }
      ],
      "source": [
        "# Plot the training\n",
        "plt.figure(figsize=(15,5))\n",
        "plt.plot(efficient_history_ft['loss'], label='Training', alpha=.3, color='#ff7f0e', linestyle='--')\n",
        "plt.plot(efficient_history_ft['val_loss'], label='Validation', alpha=.8, color='#ff7f0e')\n",
        "\n",
        "plt.legend(loc='upper left')\n",
        "plt.title('Categorical Crossentropy')\n",
        "plt.grid(alpha=.3)\n",
        "\n",
        "plt.figure(figsize=(15,5))\n",
        "plt.plot(efficient_history_ft['accuracy'], label='Training', alpha=.8, color='#ff7f0e', linestyle='--')\n",
        "plt.plot(efficient_history_ft['val_accuracy'], label='Validation', alpha=.8, color='#ff7f0e')\n",
        "\n",
        "plt.legend(loc='upper left')\n",
        "plt.title('Accuracy')\n",
        "plt.grid(alpha=.3)\n",
        "\n",
        "#plt.savefig('loss-accuracy_graphs')\n",
        "plt.show()"
      ]
    },
    {
      "cell_type": "code",
      "source": [
        "from sklearn.metrics import accuracy_score, f1_score, precision_score, recall_score\n",
        "from sklearn.metrics import confusion_matrix\n",
        "from sklearn.metrics import classification_report"
      ],
      "metadata": {
        "id": "c2RgdlW3Chhf"
      },
      "execution_count": null,
      "outputs": []
    },
    {
      "cell_type": "code",
      "execution_count": null,
      "metadata": {
        "id": "OSn12iSCWIp3",
        "colab": {
          "base_uri": "https://localhost:8080/"
        },
        "outputId": "4942d425-7e6b-4c12-f52a-6baff71221f5"
      },
      "outputs": [
        {
          "output_type": "stream",
          "name": "stdout",
          "text": [
            "Found 184 images belonging to 8 classes.\n"
          ]
        }
      ],
      "source": [
        "test_datagen = ImageDataGenerator(preprocessing_function=preprocess_input)\n",
        "test_gen = test_datagen.flow_from_directory(directory=test_dir,\n",
        "                                          target_size=(256, 256),\n",
        "                                          interpolation=\"bilinear\",\n",
        "                                          color_mode='rgb',\n",
        "                                          class_mode='categorical',\n",
        "                                          batch_size=batch_size,\n",
        "                                          shuffle=True,\n",
        "                                          seed=seed)"
      ]
    },
    {
      "cell_type": "code",
      "source": [
        "test_l = len(test_gen) * batch_size\n",
        "print(test_l)\n",
        "predictions = np.zeros((test_l,))\n",
        "y_test = np.zeros((test_l,))\n",
        "\n",
        "s = 0\n",
        "for X, y in test_gen:\n",
        "    y_idx = np.argmax(y, axis=-1)\n",
        "    p_idx = np.argmax(model.predict(X), axis=-1)\n",
        "    l = len(y_idx)\n",
        "    if s + l >= test_l:\n",
        "        break\n",
        "    y_test[s:s + l] = y_idx\n",
        "    predictions[s:s + l] = p_idx\n",
        "    s += l\n",
        "\n",
        "predictions = predictions[:s]\n",
        "y_test = y_test[:s]\n",
        "predictions.shape"
      ],
      "metadata": {
        "id": "1UFzGw0GCjkv",
        "colab": {
          "base_uri": "https://localhost:8080/"
        },
        "outputId": "1331127a-fc5a-43e0-b402-8f4d8db80e13"
      },
      "execution_count": null,
      "outputs": [
        {
          "output_type": "stream",
          "name": "stdout",
          "text": [
            "192\n",
            "1/1 [==============================] - 1s 1s/step\n",
            "1/1 [==============================] - 0s 45ms/step\n",
            "1/1 [==============================] - 0s 43ms/step\n",
            "1/1 [==============================] - 0s 46ms/step\n",
            "1/1 [==============================] - 0s 48ms/step\n",
            "1/1 [==============================] - 2s 2s/step\n",
            "1/1 [==============================] - 0s 40ms/step\n"
          ]
        },
        {
          "output_type": "execute_result",
          "data": {
            "text/plain": [
              "(184,)"
            ]
          },
          "metadata": {},
          "execution_count": 23
        }
      ]
    },
    {
      "cell_type": "code",
      "source": [
        "cm = confusion_matrix(y_test, predictions)\n",
        "\n",
        "# Compute the classification metrics\n",
        "accuracy = accuracy_score(y_test, predictions)\n",
        "precision = precision_score(y_test, predictions, average='macro')\n",
        "recall = recall_score(y_test, predictions, average='macro')\n",
        "f1 = f1_score(y_test, predictions, average='macro')\n",
        "print('Accuracy:',accuracy.round(4))\n",
        "print('Precision:',precision.round(4))\n",
        "print('Recall:',recall.round(4))\n",
        "print('F1:',f1.round(4))\n",
        "\n",
        "# Plot the confusion matrix\n",
        "plt.figure(figsize=(10,8))\n",
        "sns.heatmap(cm.T, xticklabels=classes_dir, yticklabels=classes_dir)\n",
        "plt.xlabel('True labels')\n",
        "plt.ylabel('Predicted labels')\n",
        "#plt.savefig('confusion_matrix.png')\n",
        "plt.show()"
      ],
      "metadata": {
        "colab": {
          "base_uri": "https://localhost:8080/",
          "height": 568
        },
        "id": "p1OyfUhOxw6n",
        "outputId": "a1e7ee6e-24ae-4946-c20f-98d6f06cab4c"
      },
      "execution_count": null,
      "outputs": [
        {
          "output_type": "stream",
          "name": "stdout",
          "text": [
            "Accuracy: 0.8696\n",
            "Precision: 0.8569\n",
            "Recall: 0.8509\n",
            "F1: 0.8477\n"
          ]
        },
        {
          "output_type": "display_data",
          "data": {
            "text/plain": [
              "<Figure size 720x576 with 2 Axes>"
            ],
            "image/png": "[encoded data removed]"
          },
          "metadata": {
            "needs_background": "light"
          }
        }
      ]
    }
  ],
  "metadata": {
    "colab": {
      "provenance": []
    },
    "kernelspec": {
      "display_name": "Python 3",
      "name": "python3"
    },
    "language_info": {
      "name": "python"
    },
    "accelerator": "GPU",
    "gpuClass": "standard"
  },
  "nbformat": 4,
  "nbformat_minor": 0
}